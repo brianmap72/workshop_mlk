{
 "cells": [
  {
   "cell_type": "markdown",
   "metadata": {},
   "source": [
    "## if statement\n",
    "Perhaps the most famous is the if statement. E.g:"
   ]
  },
  {
   "cell_type": "code",
   "execution_count": null,
   "metadata": {},
   "outputs": [],
   "source": [
    "x  =  int ( input ( \"Please enter an integer: \" )) \n",
    " \n",
    "if  x  <  0 : \n",
    "    x  =  0 \n",
    "    print ( 'Negative changed to zero' ) \n",
    "elif  x  ==  0 : \n",
    "    print ( 'Zero' ) \n",
    "elif  x  ==  1 : \n",
    "    print ( 'Single' ) \n",
    "else :\n",
    "    print ( 'More' ) \n"
   ]
  },
  {
   "cell_type": "markdown",
   "metadata": {},
   "source": [
    "There may be zero or more elif sections, and else is optional. The keyword ‘ elif ‘ is an abbreviation for ‘else if’, which can effectively avoid excessive indentation. IF … elif … elif … sequence is a substitute other languages switchor casestatements."
   ]
  },
  {
   "cell_type": "markdown",
   "metadata": {},
   "source": [
    "## For statement\n",
    "The for statement in Python is slightly different from C or Pascal. Ordinary loops may be based on an arithmetic step process (such as Pascal), or the user defines iterative steps and abort conditions (such as C). \n",
    "Python’s for statement is based on children in any sequence (list or string). , <b> Iterate through their order in the sequence.</b>  For example (without implied):"
   ]
  },
  {
   "cell_type": "code",
   "execution_count": 3,
   "metadata": {},
   "outputs": [
    {
     "name": "stdout",
     "output_type": "stream",
     "text": [
      "cat 3\n",
      "window 6\n",
      "defenestrate 12\n"
     ]
    }
   ],
   "source": [
    "# Measure some strings: \n",
    "words = ['cat','window','defenestrate'] \n",
    "for w in words: \n",
    "    print( w , len(w)) "
   ]
  },
  {
   "cell_type": "markdown",
   "metadata": {},
   "source": [
    "## The range() Function\n",
    "If you need a numeric sequence, the built-in function range() is convenient. It generates an arithmetic progression list:"
   ]
  },
  {
   "cell_type": "code",
   "execution_count": 4,
   "metadata": {},
   "outputs": [
    {
     "name": "stdout",
     "output_type": "stream",
     "text": [
      "0\n",
      "1\n",
      "2\n",
      "3\n",
      "4\n",
      "5\n",
      "6\n",
      "7\n",
      "8\n",
      "9\n"
     ]
    }
   ],
   "source": [
    "for i in range (10):\n",
    "    print (i) "
   ]
  },
  {
   "cell_type": "markdown",
   "metadata": {},
   "source": [
    "range(10) - <b>A list of 10 values ​​is generated</b>, which populates this list of length 10 with the *index of the linked list.*\n",
    "\n",
    "The generated list does not include the end value in the range. It is also possible to let the range() operation start from another value, or you can specify a different step (even a negative number, sometimes called a “step”):\n",
    "\n",
    "Range ( 5 ,  10 ) <br>\n",
    "   5  through  9\n",
    "\n",
    "Range ( 0 ,  10 ,  3 )  <br>\n",
    "   0 ,  3 ,  6 ,  9\n",
    "\n",
    "Range ( - 10 ,  - 100 ,  - 30 ) <br>\n",
    "  '- 10 ,  - 40 ,  - 70\n",
    "  \n",
    "If iterative list indexing is needed, combine range() and len() as shown below\n"
   ]
  },
  {
   "cell_type": "code",
   "execution_count": 5,
   "metadata": {},
   "outputs": [
    {
     "name": "stdout",
     "output_type": "stream",
     "text": [
      "0 Mary\n",
      "1 had\n",
      "2 a\n",
      "3 little\n",
      "4 lamb\n"
     ]
    }
   ],
   "source": [
    "a  =  ['Mary', 'had', 'a', 'little', 'lamb'] \n",
    "for i in range(len(a)): \n",
    "    print (i, a[i]) "
   ]
  },
  {
   "cell_type": "markdown",
   "metadata": {},
   "source": [
    "We call such objects are iterable , that is suitable for those who expect something from successive terms until a target (parameters) the end of the function or structure. \n",
    "The for statement we have seen is such an iterator. The list() function is another (an iterator ) that creates a list from iterable (objects):"
   ]
  },
  {
   "cell_type": "code",
   "execution_count": 18,
   "metadata": {},
   "outputs": [
    {
     "data": {
      "text/plain": [
       "[0, 1, 2, 3, 4]"
      ]
     },
     "execution_count": 18,
     "metadata": {},
     "output_type": "execute_result"
    }
   ],
   "source": [
    "list(range(5)) "
   ]
  },
  {
   "cell_type": "markdown",
   "metadata": {},
   "source": [
    "## break and continue Statements, and the else Clause in a Loop\n",
    "The break statement is similar to C and is used to <b>jump out of the most recent level of a for or while loop.</b>\n",
    "Cycle may have a else clause; it is in the loop iterations complete list (with for ) or when the condition becomes false (with while execution), the cycle but is break the case does not suspend the execution. \n",
    "The following sample program for searching for prime numbers demonstrates this clause:"
   ]
  },
  {
   "cell_type": "code",
   "execution_count": 6,
   "metadata": {},
   "outputs": [
    {
     "name": "stdout",
     "output_type": "stream",
     "text": [
      "Found an even number 2\n",
      "Found a Number 3\n",
      "Found an even number 4\n",
      "Found a Number 5\n",
      "Found an even number 6\n",
      "Found a Number 7\n",
      "Found an even number 8\n",
      "Found a Number 9\n"
     ]
    }
   ],
   "source": [
    "for num in range(2,10): \n",
    "    if  num%2 ==0: \n",
    "        print(\"Found an even number\", num) \n",
    "        continue \n",
    "    print (\"Found a Number\", num) "
   ]
  },
  {
   "cell_type": "code",
   "execution_count": 7,
   "metadata": {},
   "outputs": [
    {
     "name": "stdout",
     "output_type": "stream",
     "text": [
      "Found an even number 2\n"
     ]
    }
   ],
   "source": [
    "for num in range(2,10): \n",
    "    if  num%2 ==0: \n",
    "        print(\"Found an even number\", num) \n",
    "        break \n",
    "    print (\"Found a Number\", num) "
   ]
  },
  {
   "cell_type": "markdown",
   "metadata": {},
   "source": [
    "## Defining Functions\n",
    "We can create a function to generate the Fibonacci sequence of the specified boundary:"
   ]
  },
  {
   "cell_type": "code",
   "execution_count": null,
   "metadata": {},
   "outputs": [],
   "source": [
    "def  fib (n):     # write Fibonacci series up to n \n",
    "    \"\"\"Print a Fibonacci series up to n.\"\"\" \n",
    "    a,b = 0,1 \n",
    "    while a < n: \n",
    "        print(a, end=' ') \n",
    "        a,b = b, a + b "
   ]
  },
  {
   "cell_type": "code",
   "execution_count": null,
   "metadata": {},
   "outputs": [],
   "source": [
    "fib( 10 ) "
   ]
  },
  {
   "cell_type": "code",
   "execution_count": null,
   "metadata": {},
   "outputs": [],
   "source": []
  }
 ],
 "metadata": {
  "kernelspec": {
   "display_name": "Python 3",
   "language": "python",
   "name": "python3"
  },
  "language_info": {
   "codemirror_mode": {
    "name": "ipython",
    "version": 3
   },
   "file_extension": ".py",
   "mimetype": "text/x-python",
   "name": "python",
   "nbconvert_exporter": "python",
   "pygments_lexer": "ipython3",
   "version": "3.6.8"
  }
 },
 "nbformat": 4,
 "nbformat_minor": 2
}
