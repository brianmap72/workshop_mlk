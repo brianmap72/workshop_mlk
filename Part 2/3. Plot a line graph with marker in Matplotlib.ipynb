{
 "cells": [
  {
   "cell_type": "code",
   "execution_count": null,
   "metadata": {},
   "outputs": [],
   "source": [
    "import matplotlib.pyplot as plt\n",
    " \n",
    "# Changing default values for parameters individually\n",
    "plt.rc('lines', linewidth=2, linestyle='-', marker='*')\n",
    "plt.rcParams['lines.markersize'] = 25\n",
    "plt.rcParams['font.size'] = '10.0'\n",
    " \n",
    "#Plot a line graph\n",
    "plt.plot([10, 20, 30, 40, 50])\n",
    "# Add labels and title\n",
    "plt.title(\"Interactive Plot\")\n",
    "plt.xlabel(\"X-axis\")\n",
    "plt.ylabel(\"Y-axis\")\n",
    " \n"
   ]
  },
  {
   "cell_type": "code",
   "execution_count": null,
   "metadata": {},
   "outputs": [],
   "source": []
  }
 ],
 "metadata": {
  "kernelspec": {
   "display_name": "Python 3",
   "language": "python",
   "name": "python3"
  },
  "language_info": {
   "codemirror_mode": {
    "name": "ipython",
    "version": 3
   },
   "file_extension": ".py",
   "mimetype": "text/x-python",
   "name": "python",
   "nbconvert_exporter": "python",
   "pygments_lexer": "ipython3",
   "version": "3.6.8"
  }
 },
 "nbformat": 4,
 "nbformat_minor": 2
}
