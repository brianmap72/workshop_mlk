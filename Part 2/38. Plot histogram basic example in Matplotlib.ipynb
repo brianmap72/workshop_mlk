{
 "cells": [
  {
   "cell_type": "code",
   "execution_count": 1,
   "metadata": {},
   "outputs": [
    {
     "data": {
      "text/plain": [
       "<Figure size 640x480 with 1 Axes>"
      ]
     },
     "metadata": {},
     "output_type": "display_data"
    }
   ],
   "source": [
    "import numpy as np\n",
    "import matplotlib.pyplot as plt\n",
    " \n",
    "# Data in numpy array\n",
    "exp_data = np.array([12, 15, 13, 20, 19, 20, 11, 19, 11, 12, 19, 13, \n",
    "                    12, 10, 6, 19, 3, 1, 1, 0, 4, 4, 6, 5, 3, 7, \n",
    "                    12, 7, 9, 8, 12, 11, 11, 18, 19, 18, 19, 3, 6, \n",
    "                    5, 6, 9, 11, 10, 14, 14, 16, 17, 17, 19, 0, 2, \n",
    "                    0, 3, 1, 4, 6, 6, 8, 7, 7, 6, 7, 11, 11, 10, \n",
    "                    11, 10, 13, 13, 15, 18, 20, 19, 1, 10, 8, 16, \n",
    "                    19, 19, 17, 16, 11, 1, 10, 13, 15, 3, 8, 6, 9, \n",
    "                    10, 15, 19, 2, 4, 5, 6, 9, 11, 10, 9, 10, 9, \n",
    "                    15, 16, 18, 13])\n",
    " \n",
    "# Plot the distribution of numpy data\n",
    "plt.hist(exp_data, bins = 19)\n",
    " \n",
    "# Add axis labels\n",
    "plt.xlabel(\"Year\")\n",
    "plt.ylabel(\"Salary\")\n",
    "plt.title(\"Example of Histogram Plot\")\n",
    " \n"
   ]
  },
  {
   "cell_type": "code",
   "execution_count": null,
   "metadata": {},
   "outputs": [],
   "source": []
  }
 ],
 "metadata": {
  "kernelspec": {
   "display_name": "Python 3",
   "language": "python",
   "name": "python3"
  },
  "language_info": {
   "codemirror_mode": {
    "name": "ipython",
    "version": 3
   },
   "file_extension": ".py",
   "mimetype": "text/x-python",
   "name": "python",
   "nbconvert_exporter": "python",
   "pygments_lexer": "ipython3",
   "version": "3.6.8"
  }
 },
 "nbformat": 4,
 "nbformat_minor": 2
}
